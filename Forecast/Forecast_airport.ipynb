{
  "nbformat": 4,
  "nbformat_minor": 0,
  "metadata": {
    "colab": {
      "provenance": [],
      "authorship_tag": "ABX9TyNmDQyqle0fUf1R5kkEnl+I",
      "include_colab_link": true
    },
    "kernelspec": {
      "name": "python3",
      "display_name": "Python 3"
    },
    "language_info": {
      "name": "python"
    }
  },
  "cells": [
    {
      "cell_type": "markdown",
      "metadata": {
        "id": "view-in-github",
        "colab_type": "text"
      },
      "source": [
        "<a href=\"https://colab.research.google.com/github/martabarbosa1/P5-Forecasting/blob/main/Forecast/Forecast_airport.ipynb\" target=\"_parent\"><img src=\"https://colab.research.google.com/assets/colab-badge.svg\" alt=\"Open In Colab\"/></a>"
      ]
    },
    {
      "cell_type": "code",
      "execution_count": null,
      "metadata": {
        "id": "ZtVrMwSYTYWJ"
      },
      "outputs": [],
      "source": [
        "#trying to use forecast for new dates\n",
        "#in theory, if we use all the dataset as train, the next forecast values will be constructed as in the model evaluation of mse, but for new values\n",
        "\n",
        "#run this script to get the dataset for the model\n",
        "### Imports\n",
        "import pandas as pd\n",
        "import numpy as np\n",
        "import matplotlib.pyplot as plt\n",
        "import seaborn as sns\n",
        "from datetime import datetime\n",
        "\n",
        "import plotly.express as px\n",
        "\n",
        "from sklearn.metrics import mean_squared_error\n",
        "\n",
        "### Load the Datasets\n",
        "#originalyy downloaded from https://www.kaggle.com/datasets/sherrytp/airline-delay-analy\n",
        "df2016 = pd.read_csv('https://raw.githubusercontent.com/Frans-Grau/Datasets/main/P5%20-%20Datasets/df2016.csv')\n",
        "df2017 = pd.read_csv('https://raw.githubusercontent.com/Frans-Grau/Datasets/main/P5%20-%20Datasets/df2017.csv')\n",
        "df2018 = pd.read_csv('https://raw.githubusercontent.com/Frans-Grau/Datasets/main/P5%20-%20Datasets/df2018.csv')\n",
        "\n",
        "### Quick preprocessing\n",
        "df_all = pd.concat([df2016,df2017,df2018], ignore_index = True, axis = 0)\n",
        "df_all.drop(['Unnamed: 0','CANCELLED','DIVERTED'], axis=1, inplace= True)\n",
        "df_all.dropna(inplace=True)\n",
        "df_all['FL_DATE'] = pd.to_datetime(df_all['FL_DATE'])\n",
        "df_all['AIRLINE'] = df_all['OP_CARRIER'].apply(lambda x: 'Delta Airlines' if x == 'DL' else 'Southwest Airlines' if x=='WN' else 'American Airlines' if x=='AA'\n",
        "else 'JetBlue Airways' if x=='B6' else 'SkyWest Airlines' if x=='OO' else 'Atlantic Southeast Airlines' if x == 'EV' else 'United Airlines' if x == 'UA'\n",
        "else 'Pinnacle Airlines' if x == '9E' else 'Spirit Airlines' if x== 'NK' else 'Alaska Airlines' if x == 'AS' else 'Virgin America' if x == 'VX' else 'Frontier' if x =='F9'\n",
        "else 'Republic Airlines' if x == 'YX'else 'Hawaiian Airlines' if x == 'HA' else 'Envoy Air' if x == 'MQ' else 'Air Shuttle' if x == 'YV' else 'Allegiant Air' if x=='G4'\n",
        "else 'Comair')\n",
        "df_all.head()\n",
        "\n",
        "#create the time series df with mean and std\n",
        "df_delay= df_all.groupby('FL_DATE')['DEP_DELAY'].mean().reset_index()\n",
        "df_delay = df_delay.sort_values('FL_DATE').set_index('FL_DATE')\n",
        "df_delay_std = df_all.groupby('FL_DATE')['DEP_DELAY'].std().reset_index()\n",
        "df_delay_std = df_delay_std.sort_values('FL_DATE').set_index('FL_DATE')\n",
        "\n",
        "# Create the train set\n",
        "train_set = df_delay.head(int(df_delay.shape[0]-273))\n",
        "print(train_set.shape)\n",
        "print('The minimum date we have is', train_set.index.min(), 'and the maximum date is ',  train_set.index.max())"
      ]
    },
    {
      "cell_type": "code",
      "source": [
        "#arima model\n",
        "from statsmodels.tsa.arima.model import ARIMA\n",
        "\n",
        "allx = list(range(1, 274))\n",
        "allx.reverse()\n",
        "\n",
        "def forecastx(x):\n",
        "    test_set = df_delay.tail(x)\n",
        "    train_set = df_delay.head(int(df_delay.shape[0]-test_set.shape[0]))\n",
        "    arima_model = ARIMA(train_set['DEP_DELAY'], order=(2,0,1), freq = 'D')\n",
        "    arima_model_fit = arima_model.fit()\n",
        "    # arima_model_fit.forecast()\n",
        "    # forecast = arima_model_fit.forecast()\n",
        "    # return forecast\n",
        "    return arima_model_fit.forecast()\n",
        "\n",
        "dep_delay_forecast = list(map(forecastx, allx))\n",
        "dep_delay_forecast"
      ],
      "metadata": {
        "id": "wLjP5on-Txrl"
      },
      "execution_count": null,
      "outputs": []
    },
    {
      "cell_type": "code",
      "source": [
        "forecast = pd.Series(dep_delay_forecast)\n",
        "forecast = pd.concat(dep_delay_forecast)\n",
        "test_forecast = pd.concat([test_set, forecast], axis = 1)\n",
        "test_forecast = test_forecast.rename(columns={'DEP_DELAY' : 'Test_set', 0: 'Forecast_ARIMA'})"
      ],
      "metadata": {
        "id": "j84WC3XUT4Zy"
      },
      "execution_count": null,
      "outputs": []
    },
    {
      "cell_type": "code",
      "source": [
        "mean_squared_error(test_forecast['Test_set'], test_forecast['Forecast_ARIMA'])"
      ],
      "metadata": {
        "id": "mhQwAbKbUFX8"
      },
      "execution_count": null,
      "outputs": []
    },
    {
      "cell_type": "code",
      "source": [
        "#expm smoothing model\n",
        "from statsmodels.tsa.holtwinters import ExponentialSmoothing\n",
        "\n",
        "allx = list(range(1, 274))\n",
        "allx.reverse()\n",
        "\n",
        "def expsm_forecastx(x):\n",
        "    test_set = df_delay.tail(x)\n",
        "    train_set = df_delay.head(int(df_delay.shape[0]-test_set.shape[0]))\n",
        "    exp_smoothing = ExponentialSmoothing(train_set['DEP_DELAY'])\n",
        "    exp_smoothing_fit = exp_smoothing.fit(optimized = True)\n",
        "    exp_smoothing_fit.forecast()\n",
        "    forecast =  exp_smoothing_fit.forecast()\n",
        "    return forecast.iloc[0]\n",
        "\n",
        "dep_delay_forecast_expsm = list(map(expsm_forecastx, allx))"
      ],
      "metadata": {
        "id": "uLrj2hAHT_sq"
      },
      "execution_count": null,
      "outputs": []
    },
    {
      "cell_type": "code",
      "source": [
        "dep_delay_forecast_expsm = pd.Series(dep_delay_forecast_expsm, name = 'Forecast_Expsm')\n",
        "test_forecast_new = pd.concat([test_forecast, dep_delay_forecast_expsm], axis = 1)\n",
        "test_forecast['Forecast_Expsm'] = list(dep_delay_forecast_expsm)"
      ],
      "metadata": {
        "id": "S_b6njz7UT5I"
      },
      "execution_count": null,
      "outputs": []
    },
    {
      "cell_type": "code",
      "source": [
        "mean_squared_error(test_forecast['Test_set'], test_forecast['Forecast_Expsm'])"
      ],
      "metadata": {
        "id": "6xZCk7iQUgxe"
      },
      "execution_count": null,
      "outputs": []
    },
    {
      "cell_type": "code",
      "source": [
        "#plot\n",
        "fig = px.line(test_forecast, x = test_forecast.index, y = ['Test_set', 'Forecast_ARIMA', 'Forecast_Expsm']) #, color_discrete_sequence=[\"#ff97ff\"])\n",
        "fig.show()"
      ],
      "metadata": {
        "id": "DxGdvFpjUaa9"
      },
      "execution_count": null,
      "outputs": []
    },
    {
      "cell_type": "code",
      "source": [
        "##new values\n",
        "new_dates = pd.date_range(start=\"2019-01-01\",end=\"2019-03-31\")\n",
        "df_new_dates = pd.DataFrame(new_dates)\n",
        "df_new_dates.rename(columns = {0 : 'FL_DATE'}, inplace = True)\n",
        "df_delay.reset_index(inplace = True)\n",
        "df_new = pd.concat([df_delay, df_new_dates], axis = 0)\n",
        "df_new.set_index('FL_DATE', inplace = True)"
      ],
      "metadata": {
        "id": "KHMPxjxIUqVb"
      },
      "execution_count": null,
      "outputs": []
    },
    {
      "cell_type": "code",
      "source": [
        "allx = list(range(1, 91))\n",
        "allx.reverse()\n",
        "\n",
        "def forecastx(x):\n",
        "    test_set = df_new.tail(x)\n",
        "    train_set = df_new.head(int(df_new.shape[0]-test_set.shape[0]))\n",
        "    arima_model = ARIMA(train_set['DEP_DELAY'], order=(2,0,1), freq = 'D')\n",
        "    arima_model_fit = arima_model.fit()\n",
        "    # arima_model_fit.forecast()\n",
        "    # forecast = arima_model_fit.forecast()\n",
        "    # return forecast\n",
        "    return arima_model_fit.forecast()\n",
        "\n",
        "dep_delay_forecast = list(map(forecastx, allx))\n",
        "dep_delay_forecast"
      ],
      "metadata": {
        "id": "sLnmTZ3iU6PN"
      },
      "execution_count": null,
      "outputs": []
    },
    {
      "cell_type": "code",
      "source": [
        "df_result_new = pd.DataFrame(dep_delay_forecast_new)\n",
        "df_result_new = pd.melt(df_result_new).dropna().rename(columns = {'variable' : 'FL_DATE', 'value' : 'DEP_DELAY'})\n",
        "df_final = pd.concat([df_delay,df_result_new ], axis=0)\n",
        "df_final = df_final.set_index('FL_DATE')"
      ],
      "metadata": {
        "id": "k6FH6R2yVByn"
      },
      "execution_count": null,
      "outputs": []
    },
    {
      "cell_type": "code",
      "source": [
        "df_final.iloc[-100 : -80].plot()"
      ],
      "metadata": {
        "id": "Jtrpes-iUsQd"
      },
      "execution_count": null,
      "outputs": []
    }
  ]
}