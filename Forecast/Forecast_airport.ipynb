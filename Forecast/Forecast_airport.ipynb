{
  "nbformat": 4,
  "nbformat_minor": 0,
  "metadata": {
    "colab": {
      "provenance": [],
      "authorship_tag": "ABX9TyOiNqDt+psSp/Rw2bH4dV9B",
      "include_colab_link": true
    },
    "kernelspec": {
      "name": "python3",
      "display_name": "Python 3"
    },
    "language_info": {
      "name": "python"
    }
  },
  "cells": [
    {
      "cell_type": "markdown",
      "metadata": {
        "id": "view-in-github",
        "colab_type": "text"
      },
      "source": [
        "<a href=\"https://colab.research.google.com/github/martabarbosa1/P5-Forecasting/blob/main/Forecast/Forecast_airport.ipynb\" target=\"_parent\"><img src=\"https://colab.research.google.com/assets/colab-badge.svg\" alt=\"Open In Colab\"/></a>"
      ]
    },
    {
      "cell_type": "code",
      "execution_count": null,
      "metadata": {
        "id": "lh4E3rXKWe29"
      },
      "outputs": [],
      "source": [
        "### Imports\n",
        "import pandas as pd\n",
        "import numpy as np\n",
        "import matplotlib.pyplot as plt\n",
        "import seaborn as sns\n",
        "from datetime import datetime\n",
        "\n",
        "import plotly.express as px\n",
        "\n",
        "from sklearn.metrics import mean_squared_error\n",
        "\n",
        "### Load the Datasets\n",
        "#originalyy downloaded from https://www.kaggle.com/datasets/sherrytp/airline-delay-analy\n",
        "df2016 = pd.read_csv('https://raw.githubusercontent.com/Frans-Grau/Datasets/main/P5%20-%20Datasets/df2016.csv')\n",
        "df2017 = pd.read_csv('https://raw.githubusercontent.com/Frans-Grau/Datasets/main/P5%20-%20Datasets/df2017.csv')\n",
        "df2018 = pd.read_csv('https://raw.githubusercontent.com/Frans-Grau/Datasets/main/P5%20-%20Datasets/df2018.csv')\n",
        "\n",
        "### Quick preprocessing\n",
        "df_all = pd.concat([df2016,df2017,df2018], ignore_index = True, axis = 0)\n",
        "df_all.drop(['Unnamed: 0','CANCELLED','DIVERTED'], axis=1, inplace= True)\n",
        "df_all.dropna(inplace=True)\n",
        "df_all['FL_DATE'] = pd.to_datetime(df_all['FL_DATE'])\n",
        "df_all['AIRLINE'] = df_all['OP_CARRIER'].apply(lambda x: 'Delta Airlines' if x == 'DL' else 'Southwest Airlines' if x=='WN' else 'American Airlines' if x=='AA'\n",
        "else 'JetBlue Airways' if x=='B6' else 'SkyWest Airlines' if x=='OO' else 'Atlantic Southeast Airlines' if x == 'EV' else 'United Airlines' if x == 'UA'\n",
        "else 'Pinnacle Airlines' if x == '9E' else 'Spirit Airlines' if x== 'NK' else 'Alaska Airlines' if x == 'AS' else 'Virgin America' if x == 'VX' else 'Frontier' if x =='F9'\n",
        "else 'Republic Airlines' if x == 'YX'else 'Hawaiian Airlines' if x == 'HA' else 'Envoy Air' if x == 'MQ' else 'Air Shuttle' if x == 'YV' else 'Allegiant Air' if x=='G4'\n",
        "else 'Comair')\n",
        "df_all.head()\n",
        "\n",
        "#create the time series df with mean and std\n",
        "df_delay= df_all.groupby('FL_DATE')['DEP_DELAY'].mean().reset_index()\n",
        "df_delay = df_delay.sort_values('FL_DATE').set_index('FL_DATE')\n",
        "df_delay_std = df_all.groupby('FL_DATE')['DEP_DELAY'].std().reset_index()\n",
        "df_delay_std = df_delay_std.sort_values('FL_DATE').set_index('FL_DATE')"
      ]
    },
    {
      "cell_type": "code",
      "source": [
        "#arima model\n",
        "from statsmodels.tsa.arima.model import ARIMA\n",
        "allx = list(range(1, 274))\n",
        "allx.reverse()\n",
        "\n",
        "def forecastx(x):\n",
        "    test_set = df_delay.tail(x)\n",
        "    train_set = df_delay.head(int(df_delay.shape[0]-test_set.shape[0]))\n",
        "    arima_model = ARIMA(train_set['DEP_DELAY'], order=(2,0,1), freq = 'D')\n",
        "    arima_model_fit = arima_model.fit()\n",
        "    # arima_model_fit.forecast()\n",
        "    # forecast = arima_model_fit.forecast()\n",
        "    # return forecast\n",
        "    return arima_model_fit.forecast()\n",
        "\n",
        "dep_delay_forecast = list(map(forecastx, allx))\n",
        "dep_delay_forecast"
      ],
      "metadata": {
        "id": "qqTwfjhaWyEJ"
      },
      "execution_count": null,
      "outputs": []
    },
    {
      "cell_type": "code",
      "source": [
        "forecast = pd.Series(dep_delay_forecast)\n",
        "forecast = pd.concat(dep_delay_forecast)\n",
        "test_forecast = pd.concat([test_set, forecast], axis = 1)\n",
        "test_forecast = test_forecast.rename(columns={'DEP_DELAY' : 'Test_set', 0: 'Forecast_ARIMA'})"
      ],
      "metadata": {
        "id": "iNxIwPowXQ9f"
      },
      "execution_count": null,
      "outputs": []
    },
    {
      "cell_type": "code",
      "source": [
        "mean_squared_error(test_forecast['Test_set'], test_forecast['Forecast_ARIMA'])"
      ],
      "metadata": {
        "id": "aS4btSI-XXqv"
      },
      "execution_count": null,
      "outputs": []
    },
    {
      "cell_type": "code",
      "source": [
        "#exp smoothing\n",
        "from statsmodels.tsa.holtwinters import ExponentialSmoothing\n",
        "\n",
        "allx = list(range(1, 274))\n",
        "allx.reverse()\n",
        "\n",
        "def expsm_forecastx(x):\n",
        "    test_set = df_delay.tail(x)\n",
        "    train_set = df_delay.head(int(df_delay.shape[0]-test_set.shape[0]))\n",
        "    exp_smoothing = ExponentialSmoothing(train_set['DEP_DELAY'])\n",
        "    exp_smoothing_fit = exp_smoothing.fit(optimized = True)\n",
        "    exp_smoothing_fit.forecast()\n",
        "    forecast =  exp_smoothing_fit.forecast()\n",
        "    return forecast.iloc[0]\n",
        "\n",
        "dep_delay_forecast_expsm = list(map(expsm_forecastx, allx))"
      ],
      "metadata": {
        "id": "mQc8q67CXbbk"
      },
      "execution_count": null,
      "outputs": []
    },
    {
      "cell_type": "code",
      "source": [
        "dep_delay_forecast_expsm = pd.Series(dep_delay_forecast_expsm, name = 'Forecast_Expsm')\n",
        "test_forecast_new = pd.concat([test_forecast, dep_delay_forecast_expsm], axis = 1)\n",
        "test_forecast['Forecast_Expsm'] = list(dep_delay_forecast_expsm)"
      ],
      "metadata": {
        "id": "dh4wTjW_XgNW"
      },
      "execution_count": null,
      "outputs": []
    },
    {
      "cell_type": "code",
      "source": [
        "mean_squared_error(test_forecast['Test_set'], test_forecast['Forecast_Expsm'])"
      ],
      "metadata": {
        "id": "iq0rzwRTXoqV"
      },
      "execution_count": null,
      "outputs": []
    },
    {
      "cell_type": "code",
      "source": [
        "#plot both\n",
        "fig = px.line(test_forecast, x = test_forecast.index, y = ['Test_set', 'Forecast_ARIMA', 'Forecast_Expsm']) #, color_discrete_sequence=[\"#ff97ff\"])\n",
        "fig.show()"
      ],
      "metadata": {
        "id": "-V5SAA3NXlrN"
      },
      "execution_count": null,
      "outputs": []
    },
    {
      "cell_type": "code",
      "source": [
        "#new values"
      ],
      "metadata": {
        "id": "kiXWuRZVWtxY"
      },
      "execution_count": null,
      "outputs": []
    },
    {
      "cell_type": "code",
      "source": [
        "#now the code to forecast future events(next quarter)\n",
        "new_dates = pd.date_range(start=\"2019-01-01\",end=\"2019-03-31\")"
      ],
      "metadata": {
        "id": "uS8-SF8Oh4fk"
      },
      "execution_count": null,
      "outputs": []
    },
    {
      "cell_type": "code",
      "source": [
        "df_new_dates = pd.DataFrame(new_dates)\n",
        "df_new_dates.rename(columns = {0 : 'FL_DATE'}, inplace = True)"
      ],
      "metadata": {
        "id": "mIUKFL1rh4fk"
      },
      "execution_count": null,
      "outputs": []
    },
    {
      "cell_type": "code",
      "source": [
        "df_delay.reset_index(inplace = True)"
      ],
      "metadata": {
        "id": "QYLn8Y_6h4fk"
      },
      "execution_count": null,
      "outputs": []
    },
    {
      "cell_type": "code",
      "source": [
        "df_new = pd.concat([df_delay, df_new_dates], axis = 0)"
      ],
      "metadata": {
        "id": "iooqRRsih4fk"
      },
      "execution_count": null,
      "outputs": []
    },
    {
      "cell_type": "code",
      "source": [
        "df_new.set_index('FL_DATE', inplace = True)"
      ],
      "metadata": {
        "id": "4J4-NdKbh4fl"
      },
      "execution_count": null,
      "outputs": []
    },
    {
      "cell_type": "code",
      "source": [
        "allx = list(range(1, 91))\n",
        "allx.reverse()\n",
        "\n",
        "def forecastx(x):\n",
        "    test_set = df_new.tail(x)\n",
        "    train_set = df_new.head(int(df_new.shape[0]-test_set.shape[0]))\n",
        "    arima_model = ARIMA(train_set['DEP_DELAY'], order=(2,0,1), freq = 'D')\n",
        "    arima_model_fit = arima_model.fit()\n",
        "    # arima_model_fit.forecast()\n",
        "    # forecast = arima_model_fit.forecast()\n",
        "    # return forecast\n",
        "    return arima_model_fit.forecast()\n",
        "\n",
        "dep_delay_forecast = list(map(forecastx, allx))\n",
        "dep_delay_forecast"
      ],
      "metadata": {
        "id": "KVVpkxY2ldmA"
      },
      "execution_count": null,
      "outputs": []
    },
    {
      "cell_type": "code",
      "source": [
        "df_result_new = pd.DataFrame(dep_delay_forecast_new)\n",
        "df_result_new = pd.melt(df_result_new).dropna().rename(columns = {'variable' : 'FL_DATE', 'value' : 'DEP_DELAY'})\n",
        "df_final = pd.concat([df_delay,df_result_new ], axis=0)\n",
        "df_final = df_final.set_index('FL_DATE')"
      ],
      "metadata": {
        "id": "2iozNeBWpluw"
      },
      "execution_count": null,
      "outputs": []
    },
    {
      "cell_type": "code",
      "source": [
        "df_final.iloc[-100 : -80].plot()"
      ],
      "metadata": {
        "colab": {
          "base_uri": "https://localhost:8080/",
          "height": 321
        },
        "id": "zdh0C1aCoyWS",
        "outputId": "cab1aafc-37a7-4c18-aaac-5fbc73cfd958"
      },
      "execution_count": null,
      "outputs": [
        {
          "output_type": "execute_result",
          "data": {
            "text/plain": [
              "<matplotlib.axes._subplots.AxesSubplot at 0x7f415167d1f0>"
            ]
          },
          "metadata": {},
          "execution_count": 119
        },
        {
          "output_type": "display_data",
          "data": {
            "text/plain": [
              "<Figure size 432x288 with 1 Axes>"
            ],
            "image/png": "[encoded data removed]"
          },
          "metadata": {
            "needs_background": "light"
          }
        }
      ]
    },
    {
      "cell_type": "code",
      "source": [],
      "metadata": {
        "id": "wnm1oiFFWtGf"
      },
      "execution_count": null,
      "outputs": []
    }
  ]
}