{
 "cells": [
  {
   "cell_type": "code",
   "execution_count": 1,
   "metadata": {},
   "outputs": [],
   "source": [
    "### Imports\n",
    "import pandas as pd\n",
    "from selenium import webdriver\n",
    "from webdriver_manager.chrome import ChromeDriverManager\n",
    "from bs4 import BeautifulSoup\n",
    "import requests"
   ]
  },
  {
   "cell_type": "code",
   "execution_count": 2,
   "metadata": {},
   "outputs": [
    {
     "name": "stderr",
     "output_type": "stream",
     "text": [
      "[WDM] - Downloading: 100%|██████████| 6.58M/6.58M [00:01<00:00, 6.22MB/s]\n"
     ]
    }
   ],
   "source": [
    "### Website\n",
    "driver = webdriver.Chrome(ChromeDriverManager().install())\n",
    "driver.get('https://www.jfkairport.com/at-airport/shops-restaurants-and-services')"
   ]
  },
  {
   "cell_type": "code",
   "execution_count": 92,
   "metadata": {},
   "outputs": [
    {
     "data": {
      "text/html": [
       "<div>\n",
       "<style scoped>\n",
       "    .dataframe tbody tr th:only-of-type {\n",
       "        vertical-align: middle;\n",
       "    }\n",
       "\n",
       "    .dataframe tbody tr th {\n",
       "        vertical-align: top;\n",
       "    }\n",
       "\n",
       "    .dataframe thead th {\n",
       "        text-align: right;\n",
       "    }\n",
       "</style>\n",
       "<table border=\"1\" class=\"dataframe\">\n",
       "  <thead>\n",
       "    <tr style=\"text-align: right;\">\n",
       "      <th></th>\n",
       "      <th>Name</th>\n",
       "      <th>Location</th>\n",
       "      <th>Description</th>\n",
       "    </tr>\n",
       "  </thead>\n",
       "  <tbody>\n",
       "    <tr>\n",
       "      <th>0</th>\n",
       "      <td>Air Bar / Tim Hortons / NY Deli</td>\n",
       "      <td>Jamaica Station AirTrain Station</td>\n",
       "      <td>Grab &amp; Go</td>\n",
       "    </tr>\n",
       "    <tr>\n",
       "      <th>1</th>\n",
       "      <td>Arrivals Eatery</td>\n",
       "      <td>Pre-Security</td>\n",
       "      <td>$2 Water</td>\n",
       "    </tr>\n",
       "    <tr>\n",
       "      <th>2</th>\n",
       "      <td>Downtown Market</td>\n",
       "      <td>Post Security</td>\n",
       "      <td>$2 Water</td>\n",
       "    </tr>\n",
       "    <tr>\n",
       "      <th>3</th>\n",
       "      <td>Dunkin Donuts Mezz Level</td>\n",
       "      <td>Pre-Security</td>\n",
       "      <td>$2 Water</td>\n",
       "    </tr>\n",
       "    <tr>\n",
       "      <th>4</th>\n",
       "      <td>Dunkin' Donuts (kiosk)</td>\n",
       "      <td>Food Court</td>\n",
       "      <td>Grab &amp; Go</td>\n",
       "    </tr>\n",
       "  </tbody>\n",
       "</table>\n",
       "</div>"
      ],
      "text/plain": [
       "                              Name                          Location  \\\n",
       "0  Air Bar / Tim Hortons / NY Deli  Jamaica Station AirTrain Station   \n",
       "1                  Arrivals Eatery                      Pre-Security   \n",
       "2                  Downtown Market                     Post Security   \n",
       "3         Dunkin Donuts Mezz Level                      Pre-Security   \n",
       "4           Dunkin' Donuts (kiosk)                        Food Court   \n",
       "\n",
       "  Description  \n",
       "0   Grab & Go  \n",
       "1    $2 Water  \n",
       "2    $2 Water  \n",
       "3    $2 Water  \n",
       "4   Grab & Go  "
      ]
     },
     "execution_count": 92,
     "metadata": {},
     "output_type": "execute_result"
    }
   ],
   "source": [
    "### All Info\n",
    "all = list(map(lambda name: name.text, driver.find_elements_by_class_name('tiles-wrapper')))\n",
    "data = pd.DataFrame(all)\n",
    "data.rename(columns={0:'Name'}, inplace=True)\n",
    "jfk = data[\"Name\"].str.split(\"\\n\", n = 3, expand = True)\n",
    "jfk.rename(columns={0:'Name',1:'Location',2:'Description1'}, inplace=True)\n",
    "\n",
    "### Clean Description Column \n",
    "jfk['Description'] = jfk['Description1'].str.extract('(.+?),')\n",
    "jfk['Description'] = jfk['Description'].fillna(jfk['Description1'])\n",
    "jfk.drop(['Description1'], axis = 1, inplace = True) \n",
    "\n",
    "### Final DF with only restaurants \n",
    "condition = ['Grab & Go', 'Restaurants', '$2 Water']\n",
    "jfk_final = jfk[(jfk['Description'].isin(condition))]\n",
    "jfk_final.reset_index(drop=True, inplace=True)\n",
    "jfk_final.head()"
   ]
  },
  {
   "cell_type": "code",
   "execution_count": 88,
   "metadata": {},
   "outputs": [
    {
     "data": {
      "text/html": [
       "<div>\n",
       "<style scoped>\n",
       "    .dataframe tbody tr th:only-of-type {\n",
       "        vertical-align: middle;\n",
       "    }\n",
       "\n",
       "    .dataframe tbody tr th {\n",
       "        vertical-align: top;\n",
       "    }\n",
       "\n",
       "    .dataframe thead th {\n",
       "        text-align: right;\n",
       "    }\n",
       "</style>\n",
       "<table border=\"1\" class=\"dataframe\">\n",
       "  <thead>\n",
       "    <tr style=\"text-align: right;\">\n",
       "      <th></th>\n",
       "      <th>Name</th>\n",
       "      <th>Description</th>\n",
       "    </tr>\n",
       "  </thead>\n",
       "  <tbody>\n",
       "    <tr>\n",
       "      <th>0</th>\n",
       "      <td>Air Bar / Tim Hortons / NY Deli</td>\n",
       "      <td>Grab &amp; Go</td>\n",
       "    </tr>\n",
       "    <tr>\n",
       "      <th>1</th>\n",
       "      <td>Arrivals Eatery</td>\n",
       "      <td>$2 Water</td>\n",
       "    </tr>\n",
       "    <tr>\n",
       "      <th>2</th>\n",
       "      <td>Downtown Market</td>\n",
       "      <td>$2 Water</td>\n",
       "    </tr>\n",
       "    <tr>\n",
       "      <th>3</th>\n",
       "      <td>Dunkin Donuts Mezz Level</td>\n",
       "      <td>$2 Water</td>\n",
       "    </tr>\n",
       "    <tr>\n",
       "      <th>4</th>\n",
       "      <td>Dunkin' Donuts (kiosk)</td>\n",
       "      <td>Grab &amp; Go</td>\n",
       "    </tr>\n",
       "  </tbody>\n",
       "</table>\n",
       "</div>"
      ],
      "text/plain": [
       "                              Name Description\n",
       "0  Air Bar / Tim Hortons / NY Deli   Grab & Go\n",
       "1                  Arrivals Eatery    $2 Water\n",
       "2                  Downtown Market    $2 Water\n",
       "3         Dunkin Donuts Mezz Level    $2 Water\n",
       "4           Dunkin' Donuts (kiosk)   Grab & Go"
      ]
     },
     "execution_count": 88,
     "metadata": {},
     "output_type": "execute_result"
    }
   ],
   "source": [
    "### Shop Name\n",
    "name = list(map(lambda name: name.text, driver.find_elements_by_css_selector('h2')))\n",
    "df_name =  pd.DataFrame(name)\n",
    "df_name.rename(columns={0:'Name'}, inplace=True)\n",
    "\n",
    "### Description\n",
    "type = list(map(lambda name: name.text, driver.find_elements_by_css_selector('small')))\n",
    "description = type[5:]\n",
    "df_description =  pd.DataFrame(description)\n",
    "df_description.rename(columns={0:'Description1'}, inplace=True)\n",
    "\n",
    "df1 = pd.concat([df_name, df_description], axis =1)\n",
    "\n",
    "### Clean Description Column \n",
    "df1['Description'] = df1['Description1'].str.extract('(.+?),')\n",
    "df1['Description'] = df1['Description'].fillna(df1['Description1'])\n",
    "df1.drop(['Description1'], axis = 1, inplace = True) \n",
    "\n",
    "### Final DF with only restaurants \n",
    "condition = ['Grab & Go', 'Restaurants', '$2 Water']\n",
    "jfk_rest = df1[(df1['Description'].isin(condition))]\n",
    "jfk_rest.reset_index(drop=True, inplace=True)\n",
    "jfk_rest.head()"
   ]
  },
  {
   "cell_type": "code",
   "execution_count": 96,
   "metadata": {},
   "outputs": [
    {
     "data": {
      "text/plain": [
       "99                    5ive Steak\n",
       "137                       APT 7B\n",
       "148              AbitiNo's Pizza\n",
       "149              AbitiNo's Pizza\n",
       "150               Abitinos Pizza\n",
       "                 ...            \n",
       "38                    Wok & Roll\n",
       "39                    Wok & Roll\n",
       "58      World Bean Baggage Claim\n",
       "59     World Bean Gate 65 (Main)\n",
       "120                 iS Duty Free\n",
       "Name: Name, Length: 176, dtype: object"
      ]
     },
     "execution_count": 96,
     "metadata": {},
     "output_type": "execute_result"
    }
   ],
   "source": [
    "jfk_rest['Name'].sort_values()"
   ]
  }
 ],
 "metadata": {
  "kernelspec": {
   "display_name": "Data",
   "language": "python",
   "name": "python3"
  },
  "language_info": {
   "codemirror_mode": {
    "name": "ipython",
    "version": 3
   },
   "file_extension": ".py",
   "mimetype": "text/x-python",
   "name": "python",
   "nbconvert_exporter": "python",
   "pygments_lexer": "ipython3",
   "version": "3.9.13"
  },
  "orig_nbformat": 4,
  "vscode": {
   "interpreter": {
    "hash": "25876271bee417cea62ac4a874d4e4ae52fe419c2f0f6d8a5704a6b7fa872526"
   }
  }
 },
 "nbformat": 4,
 "nbformat_minor": 2
}
