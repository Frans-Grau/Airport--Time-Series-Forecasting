{
  "cells": [
    {
      "cell_type": "markdown",
      "metadata": {
        "colab_type": "text",
        "id": "view-in-github"
      },
      "source": [
        "<a href=\"https://colab.research.google.com/github/Frans-Grau/P5-Forecasting/blob/main/Untitled1.ipynb\" target=\"_parent\"><img src=\"https://colab.research.google.com/assets/colab-badge.svg\" alt=\"Open In Colab\"/></a>"
      ]
    },
    {
      "cell_type": "code",
      "execution_count": null,
      "metadata": {},
      "outputs": [],
      "source": [
        "### Imports\n",
        "import pandas as pd\n",
        "import matplotlib.pyplot as plt\n",
        "import seaborn as sns"
      ]
    },
    {
      "cell_type": "code",
      "execution_count": 1,
      "metadata": {
        "id": "gveWEjYuACXw"
      },
      "outputs": [],
      "source": [
        "### Load the Datasets\n",
        "df2016 = pd.read_csv('https://raw.githubusercontent.com/Frans-Grau/Datasets/main/P5%20-%20Datasets/df2016.csv')\n",
        "df2017 = pd.read_csv('https://raw.githubusercontent.com/Frans-Grau/Datasets/main/P5%20-%20Datasets/df2017.csv')\n",
        "df2018 = pd.read_csv('https://raw.githubusercontent.com/Frans-Grau/Datasets/main/P5%20-%20Datasets/df2018.csv')\n",
        "\n",
        "### Quick preprocessing\n",
        "df_all = pd.concat([df2016,df2017,df2018], ignore_index = True, axis = 0)\n",
        "df_all.drop(['Unnamed: 0','CANCELLED','DIVERTED'], axis=1, inplace= True)\n",
        "df_all.dropna(inplace=True)\n",
        "df_all['FL_DATE'] = pd.to_datetime(df_all['FL_DATE'])\n",
        "df_all.head()"
      ]
    }
  ],
  "metadata": {
    "colab": {
      "authorship_tag": "ABX9TyPYCNHaPPLEFFNjaruG5gxf",
      "include_colab_link": true,
      "provenance": []
    },
    "kernelspec": {
      "display_name": "Data",
      "language": "python",
      "name": "python3"
    },
    "language_info": {
      "name": "python",
      "version": "3.9.13 (main, Aug 25 2022, 23:51:50) [MSC v.1916 64 bit (AMD64)]"
    },
    "vscode": {
      "interpreter": {
        "hash": "25876271bee417cea62ac4a874d4e4ae52fe419c2f0f6d8a5704a6b7fa872526"
      }
    }
  },
  "nbformat": 4,
  "nbformat_minor": 0
}
