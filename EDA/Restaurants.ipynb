{
 "cells": [
  {
   "cell_type": "code",
   "execution_count": 7,
   "metadata": {},
   "outputs": [],
   "source": [
    "import pandas as pd\n",
    "import seaborn as sns"
   ]
  },
  {
   "cell_type": "code",
   "execution_count": 2,
   "metadata": {},
   "outputs": [],
   "source": [
    "restaurants = pd.read_csv('https://raw.githubusercontent.com/Frans-Grau/P5-Forecasting/main/Restaurants-Datasets/ALL_Restaurants%20-%20Sheet2.csv')"
   ]
  },
  {
   "cell_type": "code",
   "execution_count": 8,
   "metadata": {},
   "outputs": [
    {
     "data": {
      "text/html": [
       "<div>\n",
       "<style scoped>\n",
       "    .dataframe tbody tr th:only-of-type {\n",
       "        vertical-align: middle;\n",
       "    }\n",
       "\n",
       "    .dataframe tbody tr th {\n",
       "        vertical-align: top;\n",
       "    }\n",
       "\n",
       "    .dataframe thead th {\n",
       "        text-align: right;\n",
       "    }\n",
       "</style>\n",
       "<table border=\"1\" class=\"dataframe\">\n",
       "  <thead>\n",
       "    <tr style=\"text-align: right;\">\n",
       "      <th></th>\n",
       "      <th>Name</th>\n",
       "      <th>Description</th>\n",
       "      <th>Location</th>\n",
       "      <th>Airport</th>\n",
       "    </tr>\n",
       "  </thead>\n",
       "  <tbody>\n",
       "    <tr>\n",
       "      <th>0</th>\n",
       "      <td>5ive Steak</td>\n",
       "      <td>Restaurant</td>\n",
       "      <td>Marketplace</td>\n",
       "      <td>JFK</td>\n",
       "    </tr>\n",
       "    <tr>\n",
       "      <th>1</th>\n",
       "      <td>800 Degrees Pizza</td>\n",
       "      <td>Pizza</td>\n",
       "      <td>After Security</td>\n",
       "      <td>LAX</td>\n",
       "    </tr>\n",
       "    <tr>\n",
       "      <th>2</th>\n",
       "      <td>A/K Blvd</td>\n",
       "      <td>Grab &amp; Go</td>\n",
       "      <td>After Security</td>\n",
       "      <td>LAX</td>\n",
       "    </tr>\n",
       "    <tr>\n",
       "      <th>3</th>\n",
       "      <td>A/K Blvd</td>\n",
       "      <td>Grab &amp; Go</td>\n",
       "      <td>After Security</td>\n",
       "      <td>LAX</td>\n",
       "    </tr>\n",
       "    <tr>\n",
       "      <th>4</th>\n",
       "      <td>Abitinos Pizza</td>\n",
       "      <td>Pizza</td>\n",
       "      <td>Concourse C</td>\n",
       "      <td>JFK</td>\n",
       "    </tr>\n",
       "    <tr>\n",
       "      <th>...</th>\n",
       "      <td>...</td>\n",
       "      <td>...</td>\n",
       "      <td>...</td>\n",
       "      <td>...</td>\n",
       "    </tr>\n",
       "    <tr>\n",
       "      <th>394</th>\n",
       "      <td>Wolfgang Puck Express</td>\n",
       "      <td>Grab &amp; Go</td>\n",
       "      <td>After Security</td>\n",
       "      <td>LAX</td>\n",
       "    </tr>\n",
       "    <tr>\n",
       "      <th>395</th>\n",
       "      <td>Wolfgang Puck Express</td>\n",
       "      <td>Grab &amp; Go</td>\n",
       "      <td>Concourse D</td>\n",
       "      <td>ATL</td>\n",
       "    </tr>\n",
       "    <tr>\n",
       "      <th>396</th>\n",
       "      <td>Wolfgang Puck Express</td>\n",
       "      <td>Grab &amp; Go</td>\n",
       "      <td>Concourse D</td>\n",
       "      <td>ATL</td>\n",
       "    </tr>\n",
       "    <tr>\n",
       "      <th>397</th>\n",
       "      <td>WPizza by Wolfgang Puck</td>\n",
       "      <td>Pizza</td>\n",
       "      <td>Before Security</td>\n",
       "      <td>LAX</td>\n",
       "    </tr>\n",
       "    <tr>\n",
       "      <th>398</th>\n",
       "      <td>Wpizza by Wolfgang Puck</td>\n",
       "      <td>Pizza</td>\n",
       "      <td>After Security</td>\n",
       "      <td>LAX</td>\n",
       "    </tr>\n",
       "  </tbody>\n",
       "</table>\n",
       "<p>399 rows × 4 columns</p>\n",
       "</div>"
      ],
      "text/plain": [
       "                        Name Description         Location Airport\n",
       "0                 5ive Steak  Restaurant      Marketplace     JFK\n",
       "1          800 Degrees Pizza       Pizza   After Security     LAX\n",
       "2                   A/K Blvd   Grab & Go   After Security     LAX\n",
       "3                   A/K Blvd   Grab & Go   After Security     LAX\n",
       "4             Abitinos Pizza       Pizza      Concourse C     JFK\n",
       "..                       ...         ...              ...     ...\n",
       "394    Wolfgang Puck Express   Grab & Go   After Security     LAX\n",
       "395    Wolfgang Puck Express   Grab & Go      Concourse D     ATL\n",
       "396    Wolfgang Puck Express   Grab & Go      Concourse D     ATL\n",
       "397  WPizza by Wolfgang Puck       Pizza  Before Security     LAX\n",
       "398  Wpizza by Wolfgang Puck       Pizza   After Security     LAX\n",
       "\n",
       "[399 rows x 4 columns]"
      ]
     },
     "execution_count": 8,
     "metadata": {},
     "output_type": "execute_result"
    }
   ],
   "source": [
    "restaurants"
   ]
  },
  {
   "cell_type": "code",
   "execution_count": 6,
   "metadata": {},
   "outputs": [
    {
     "data": {
      "text/plain": [
       "<AxesSubplot:>"
      ]
     },
     "execution_count": 6,
     "metadata": {},
     "output_type": "execute_result"
    },
    {
     "data": {
      "image/png": "[encoded data removed]",
      "text/plain": [
       "<Figure size 640x480 with 1 Axes>"
      ]
     },
     "metadata": {},
     "output_type": "display_data"
    }
   ],
   "source": [
    "restaurants['Airport'].value_counts().plot(kind='barh')"
   ]
  },
  {
   "cell_type": "code",
   "execution_count": 24,
   "metadata": {},
   "outputs": [
    {
     "data": {
      "text/plain": [
       "<AxesSubplot:xlabel='Airport', ylabel='count'>"
      ]
     },
     "execution_count": 24,
     "metadata": {},
     "output_type": "execute_result"
    },
    {
     "data": {
      "image/png": "[encoded data removed]",
      "text/plain": [
       "<Figure size 640x480 with 1 Axes>"
      ]
     },
     "metadata": {},
     "output_type": "display_data"
    }
   ],
   "source": [
    "hue_order = ['Restaurant', 'Pizza', 'Grab & Go', 'FastFood', 'Asian', 'Bar', 'Coffee']\n",
    "sns.countplot(data=restaurants, x = 'Airport', hue='Description', hue_order=hue_order)"
   ]
  }
 ],
 "metadata": {
  "kernelspec": {
   "display_name": "Data",
   "language": "python",
   "name": "python3"
  },
  "language_info": {
   "codemirror_mode": {
    "name": "ipython",
    "version": 3
   },
   "file_extension": ".py",
   "mimetype": "text/x-python",
   "name": "python",
   "nbconvert_exporter": "python",
   "pygments_lexer": "ipython3",
   "version": "3.9.13"
  },
  "orig_nbformat": 4,
  "vscode": {
   "interpreter": {
    "hash": "25876271bee417cea62ac4a874d4e4ae52fe419c2f0f6d8a5704a6b7fa872526"
   }
  }
 },
 "nbformat": 4,
 "nbformat_minor": 2
}
