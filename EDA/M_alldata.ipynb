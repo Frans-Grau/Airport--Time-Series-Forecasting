{
  "cells": [
    {
      "cell_type": "markdown",
      "metadata": {
        "id": "view-in-github",
        "colab_type": "text"
      },
      "source": [
        "<a href=\"https://colab.research.google.com/github/Frans-Grau/P5-Forecasting/blob/main/M_alldata.ipynb\" target=\"_parent\"><img src=\"https://colab.research.google.com/assets/colab-badge.svg\" alt=\"Open In Colab\"/></a>"
      ]
    },
    {
      "cell_type": "code",
      "execution_count": null,
      "metadata": {
        "id": "CWnEwLTMBw4f"
      },
      "outputs": [],
      "source": [
        "### Imports\n",
        "import pandas as pd\n",
        "import matplotlib.pyplot as plt\n",
        "import seaborn as sns\n",
        "from datetime import datetime\n",
        "\n",
        "from statsmodels.tsa.arima.model import ARIMA"
      ]
    },
    {
      "cell_type": "code",
      "execution_count": null,
      "metadata": {
        "id": "gveWEjYuACXw",
        "colab": {
          "base_uri": "https://localhost:8080/",
          "height": 206
        },
        "outputId": "9f166062-03e6-4162-b5dd-043853f84e77"
      },
      "outputs": [
        {
          "output_type": "execute_result",
          "data": {
            "text/plain": [
              "     FL_DATE OP_CARRIER ORIGIN DEST  CRS_DEP_TIME  DEP_TIME  DEP_DELAY  \\\n",
              "0 2016-01-01         DL    ATL  GRR          2125    2130.0        5.0   \n",
              "1 2016-01-01         DL    LAX  ATL          2255    2256.0        1.0   \n",
              "2 2016-01-01         DL    ATL  BNA          1233    1356.0       83.0   \n",
              "3 2016-01-01         DL    ATL  JAX           945     946.0        1.0   \n",
              "4 2016-01-01         DL    ATL  OKC          2110    2107.0       -3.0   \n",
              "\n",
              "   CRS_ARR_TIME  ARR_TIME  AIR_TIME  DISTANCE         AIRLINE  \n",
              "0          2321    2319.0      92.0     640.0  Delta Airlines  \n",
              "1           600     547.0     207.0    1947.0  Delta Airlines  \n",
              "2          1239    1402.0      38.0     214.0  Delta Airlines  \n",
              "3          1050    1053.0      45.0     270.0  Delta Airlines  \n",
              "4          2236    2224.0     116.0     761.0  Delta Airlines  "
            ],
            "text/html": [
              "\n",
              "  <div id=\"df-d981edf1-18ed-425c-a7e9-c8d48edcdb55\">\n",
              "    <div class=\"colab-df-container\">\n",
              "      <div>\n",
              "<style scoped>\n",
              "    .dataframe tbody tr th:only-of-type {\n",
              "        vertical-align: middle;\n",
              "    }\n",
              "\n",
              "    .dataframe tbody tr th {\n",
              "        vertical-align: top;\n",
              "    }\n",
              "\n",
              "    .dataframe thead th {\n",
              "        text-align: right;\n",
              "    }\n",
              "</style>\n",
              "<table border=\"1\" class=\"dataframe\">\n",
              "  <thead>\n",
              "    <tr style=\"text-align: right;\">\n",
              "      <th></th>\n",
              "      <th>FL_DATE</th>\n",
              "      <th>OP_CARRIER</th>\n",
              "      <th>ORIGIN</th>\n",
              "      <th>DEST</th>\n",
              "      <th>CRS_DEP_TIME</th>\n",
              "      <th>DEP_TIME</th>\n",
              "      <th>DEP_DELAY</th>\n",
              "      <th>CRS_ARR_TIME</th>\n",
              "      <th>ARR_TIME</th>\n",
              "      <th>AIR_TIME</th>\n",
              "      <th>DISTANCE</th>\n",
              "      <th>AIRLINE</th>\n",
              "    </tr>\n",
              "  </thead>\n",
              "  <tbody>\n",
              "    <tr>\n",
              "      <th>0</th>\n",
              "      <td>2016-01-01</td>\n",
              "      <td>DL</td>\n",
              "      <td>ATL</td>\n",
              "      <td>GRR</td>\n",
              "      <td>2125</td>\n",
              "      <td>2130.0</td>\n",
              "      <td>5.0</td>\n",
              "      <td>2321</td>\n",
              "      <td>2319.0</td>\n",
              "      <td>92.0</td>\n",
              "      <td>640.0</td>\n",
              "      <td>Delta Airlines</td>\n",
              "    </tr>\n",
              "    <tr>\n",
              "      <th>1</th>\n",
              "      <td>2016-01-01</td>\n",
              "      <td>DL</td>\n",
              "      <td>LAX</td>\n",
              "      <td>ATL</td>\n",
              "      <td>2255</td>\n",
              "      <td>2256.0</td>\n",
              "      <td>1.0</td>\n",
              "      <td>600</td>\n",
              "      <td>547.0</td>\n",
              "      <td>207.0</td>\n",
              "      <td>1947.0</td>\n",
              "      <td>Delta Airlines</td>\n",
              "    </tr>\n",
              "    <tr>\n",
              "      <th>2</th>\n",
              "      <td>2016-01-01</td>\n",
              "      <td>DL</td>\n",
              "      <td>ATL</td>\n",
              "      <td>BNA</td>\n",
              "      <td>1233</td>\n",
              "      <td>1356.0</td>\n",
              "      <td>83.0</td>\n",
              "      <td>1239</td>\n",
              "      <td>1402.0</td>\n",
              "      <td>38.0</td>\n",
              "      <td>214.0</td>\n",
              "      <td>Delta Airlines</td>\n",
              "    </tr>\n",
              "    <tr>\n",
              "      <th>3</th>\n",
              "      <td>2016-01-01</td>\n",
              "      <td>DL</td>\n",
              "      <td>ATL</td>\n",
              "      <td>JAX</td>\n",
              "      <td>945</td>\n",
              "      <td>946.0</td>\n",
              "      <td>1.0</td>\n",
              "      <td>1050</td>\n",
              "      <td>1053.0</td>\n",
              "      <td>45.0</td>\n",
              "      <td>270.0</td>\n",
              "      <td>Delta Airlines</td>\n",
              "    </tr>\n",
              "    <tr>\n",
              "      <th>4</th>\n",
              "      <td>2016-01-01</td>\n",
              "      <td>DL</td>\n",
              "      <td>ATL</td>\n",
              "      <td>OKC</td>\n",
              "      <td>2110</td>\n",
              "      <td>2107.0</td>\n",
              "      <td>-3.0</td>\n",
              "      <td>2236</td>\n",
              "      <td>2224.0</td>\n",
              "      <td>116.0</td>\n",
              "      <td>761.0</td>\n",
              "      <td>Delta Airlines</td>\n",
              "    </tr>\n",
              "  </tbody>\n",
              "</table>\n",
              "</div>\n",
              "      <button class=\"colab-df-convert\" onclick=\"convertToInteractive('df-d981edf1-18ed-425c-a7e9-c8d48edcdb55')\"\n",
              "              title=\"Convert this dataframe to an interactive table.\"\n",
              "              style=\"display:none;\">\n",
              "        \n",
              "  <svg xmlns=\"http://www.w3.org/2000/svg\" height=\"24px\"viewBox=\"0 0 24 24\"\n",
              "       width=\"24px\">\n",
              "    <path d=\"M0 0h24v24H0V0z\" fill=\"none\"/>\n",
              "    <path d=\"M18.56 5.44l.94 2.06.94-2.06 2.06-.94-2.06-.94-.94-2.06-.94 2.06-2.06.94zm-11 1L8.5 8.5l.94-2.06 2.06-.94-2.06-.94L8.5 2.5l-.94 2.06-2.06.94zm10 10l.94 2.06.94-2.06 2.06-.94-2.06-.94-.94-2.06-.94 2.06-2.06.94z\"/><path d=\"M17.41 7.96l-1.37-1.37c-.4-.4-.92-.59-1.43-.59-.52 0-1.04.2-1.43.59L10.3 9.45l-7.72 7.72c-.78.78-.78 2.05 0 2.83L4 21.41c.39.39.9.59 1.41.59.51 0 1.02-.2 1.41-.59l7.78-7.78 2.81-2.81c.8-.78.8-2.07 0-2.86zM5.41 20L4 18.59l7.72-7.72 1.47 1.35L5.41 20z\"/>\n",
              "  </svg>\n",
              "      </button>\n",
              "      \n",
              "  <style>\n",
              "    .colab-df-container {\n",
              "      display:flex;\n",
              "      flex-wrap:wrap;\n",
              "      gap: 12px;\n",
              "    }\n",
              "\n",
              "    .colab-df-convert {\n",
              "      background-color: #E8F0FE;\n",
              "      border: none;\n",
              "      border-radius: 50%;\n",
              "      cursor: pointer;\n",
              "      display: none;\n",
              "      fill: #1967D2;\n",
              "      height: 32px;\n",
              "      padding: 0 0 0 0;\n",
              "      width: 32px;\n",
              "    }\n",
              "\n",
              "    .colab-df-convert:hover {\n",
              "      background-color: #E2EBFA;\n",
              "      box-shadow: 0px 1px 2px rgba(60, 64, 67, 0.3), 0px 1px 3px 1px rgba(60, 64, 67, 0.15);\n",
              "      fill: #174EA6;\n",
              "    }\n",
              "\n",
              "    [theme=dark] .colab-df-convert {\n",
              "      background-color: #3B4455;\n",
              "      fill: #D2E3FC;\n",
              "    }\n",
              "\n",
              "    [theme=dark] .colab-df-convert:hover {\n",
              "      background-color: #434B5C;\n",
              "      box-shadow: 0px 1px 3px 1px rgba(0, 0, 0, 0.15);\n",
              "      filter: drop-shadow(0px 1px 2px rgba(0, 0, 0, 0.3));\n",
              "      fill: #FFFFFF;\n",
              "    }\n",
              "  </style>\n",
              "\n",
              "      <script>\n",
              "        const buttonEl =\n",
              "          document.querySelector('#df-d981edf1-18ed-425c-a7e9-c8d48edcdb55 button.colab-df-convert');\n",
              "        buttonEl.style.display =\n",
              "          google.colab.kernel.accessAllowed ? 'block' : 'none';\n",
              "\n",
              "        async function convertToInteractive(key) {\n",
              "          const element = document.querySelector('#df-d981edf1-18ed-425c-a7e9-c8d48edcdb55');\n",
              "          const dataTable =\n",
              "            await google.colab.kernel.invokeFunction('convertToInteractive',\n",
              "                                                     [key], {});\n",
              "          if (!dataTable) return;\n",
              "\n",
              "          const docLinkHtml = 'Like what you see? Visit the ' +\n",
              "            '<a target=\"_blank\" href=https://colab.research.google.com/notebooks/data_table.ipynb>data table notebook</a>'\n",
              "            + ' to learn more about interactive tables.';\n",
              "          element.innerHTML = '';\n",
              "          dataTable['output_type'] = 'display_data';\n",
              "          await google.colab.output.renderOutput(dataTable, element);\n",
              "          const docLink = document.createElement('div');\n",
              "          docLink.innerHTML = docLinkHtml;\n",
              "          element.appendChild(docLink);\n",
              "        }\n",
              "      </script>\n",
              "    </div>\n",
              "  </div>\n",
              "  "
            ]
          },
          "metadata": {},
          "execution_count": 29
        }
      ],
      "source": [
        "### Load the Datasets\n",
        "#originalyy downloaded from https://www.kaggle.com/datasets/sherrytp/airline-delay-analy\n",
        "df2016 = pd.read_csv('https://raw.githubusercontent.com/Frans-Grau/Datasets/main/P5%20-%20Datasets/df2016.csv')\n",
        "df2017 = pd.read_csv('https://raw.githubusercontent.com/Frans-Grau/Datasets/main/P5%20-%20Datasets/df2017.csv')\n",
        "df2018 = pd.read_csv('https://raw.githubusercontent.com/Frans-Grau/Datasets/main/P5%20-%20Datasets/df2018.csv')\n",
        "\n",
        "### Quick preprocessing\n",
        "df_all = pd.concat([df2016,df2017,df2018], ignore_index = True, axis = 0)\n",
        "df_all.drop(['Unnamed: 0','CANCELLED','DIVERTED'], axis=1, inplace= True)\n",
        "df_all.dropna(inplace=True)\n",
        "df_all['FL_DATE'] = pd.to_datetime(df_all['FL_DATE'])\n",
        "df_all['AIRLINE'] = df_all['OP_CARRIER'].apply(lambda x: 'Delta Airlines' if x == 'DL' else 'Southwest Airlines' if x=='WN' else 'American Airlines' if x=='AA'\n",
        "else 'JetBlue Airways' if x=='B6' else 'SkyWest Airlines' if x=='OO' else 'Atlantic Southeast Airlines' if x == 'EV' else 'United Airlines' if x == 'UA'\n",
        "else 'Pinnacle Airlines' if x == '9E' else 'Spirit Airlines' if x== 'NK' else 'Alaska Airlines' if x == 'AS' else 'Virgin America' if x == 'VX' else 'Frontier' if x =='F9'\n",
        "else 'Republic Airlines' if x == 'YX'else 'Hawaiian Airlines' if x == 'HA' else 'Envoy Air' if x == 'MQ' else 'Air Shuttle' if x == 'YV' else 'Allegiant Air' if x=='G4'\n",
        "else 'Comair')\n",
        "df_all.head()"
      ]
    },
    {
      "cell_type": "markdown",
      "source": [
        "##1) EDA"
      ],
      "metadata": {
        "id": "T06KaJJ_WnV2"
      }
    },
    {
      "cell_type": "markdown",
      "source": [
        "#1.1) General EDA"
      ],
      "metadata": {
        "id": "x5lqEL_G37A9"
      }
    },
    {
      "cell_type": "code",
      "source": [
        "#check correlations\n",
        "sns.heatmap(df_all.corr())"
      ],
      "metadata": {
        "colab": {
          "base_uri": "https://localhost:8080/",
          "height": 351
        },
        "id": "WgFZwaYoB6J3",
        "outputId": "2b77d95c-14e1-4a59-963d-02380eeed7d9"
      },
      "execution_count": null,
      "outputs": [
        {
          "output_type": "execute_result",
          "data": {
            "text/plain": [
              "<matplotlib.axes._subplots.AxesSubplot at 0x7f63d5f6c790>"
            ]
          },
          "metadata": {},
          "execution_count": 3
        },
        {
          "output_type": "display_data",
          "data": {
            "text/plain": [
              "<Figure size 432x288 with 2 Axes>"
            ],
            "image/png": "[encoded data removed]"
          },
          "metadata": {
            "needs_background": "light"
          }
        }
      ]
    },
    {
      "cell_type": "code",
      "source": [
        "#see better the corr between distance and air time\n",
        "sns.scatterplot(data = df_all, x = 'AIR_TIME', y = 'DISTANCE')"
      ],
      "metadata": {
        "colab": {
          "base_uri": "https://localhost:8080/",
          "height": 297
        },
        "id": "sIsCnOPCHwOB",
        "outputId": "14a806da-6634-4c51-80fa-0e3396db826f"
      },
      "execution_count": null,
      "outputs": [
        {
          "output_type": "execute_result",
          "data": {
            "text/plain": [
              "<matplotlib.axes._subplots.AxesSubplot at 0x7f63d2eab340>"
            ]
          },
          "metadata": {},
          "execution_count": 4
        },
        {
          "output_type": "display_data",
          "data": {
            "text/plain": [
              "<Figure size 432x288 with 1 Axes>"
            ],
            "image/png": "[encoded data removed]"
          },
          "metadata": {
            "needs_background": "light"
          }
        }
      ]
    },
    {
      "cell_type": "code",
      "source": [
        "df_all.info()\n",
        "#around 2M rows"
      ],
      "metadata": {
        "colab": {
          "base_uri": "https://localhost:8080/"
        },
        "id": "Si37bFKeXJen",
        "outputId": "f18e4268-9875-410a-eda7-8f06ad94ede3"
      },
      "execution_count": null,
      "outputs": [
        {
          "output_type": "stream",
          "name": "stdout",
          "text": [
            "<class 'pandas.core.frame.DataFrame'>\n",
            "Int64Index: 2080873 entries, 0 to 2109730\n",
            "Data columns (total 12 columns):\n",
            " #   Column        Dtype         \n",
            "---  ------        -----         \n",
            " 0   FL_DATE       datetime64[ns]\n",
            " 1   OP_CARRIER    object        \n",
            " 2   ORIGIN        object        \n",
            " 3   DEST          object        \n",
            " 4   CRS_DEP_TIME  int64         \n",
            " 5   DEP_TIME      float64       \n",
            " 6   DEP_DELAY     float64       \n",
            " 7   CRS_ARR_TIME  int64         \n",
            " 8   ARR_TIME      float64       \n",
            " 9   AIR_TIME      float64       \n",
            " 10  DISTANCE      float64       \n",
            " 11  AIRLINE       object        \n",
            "dtypes: datetime64[ns](1), float64(5), int64(2), object(4)\n",
            "memory usage: 206.4+ MB\n"
          ]
        }
      ]
    },
    {
      "cell_type": "code",
      "source": [
        "df_all['FL_DATE'].nunique()/365\n",
        "#3 years of data as expected (2018, 2017, 2016)"
      ],
      "metadata": {
        "colab": {
          "base_uri": "https://localhost:8080/"
        },
        "id": "OLmPPdkFXMwl",
        "outputId": "6bfd41fb-9d60-4aea-9b61-b575be8c6382"
      },
      "execution_count": null,
      "outputs": [
        {
          "output_type": "execute_result",
          "data": {
            "text/plain": [
              "3.0027397260273974"
            ]
          },
          "metadata": {},
          "execution_count": 6
        }
      ]
    },
    {
      "cell_type": "code",
      "source": [
        "df_all['OP_CARRIER'].nunique()\n",
        "#18 airline companies"
      ],
      "metadata": {
        "colab": {
          "base_uri": "https://localhost:8080/"
        },
        "id": "neuqoUptXT8C",
        "outputId": "f790e1bd-83b9-4769-86e5-a3ff3b4a84c7"
      },
      "execution_count": null,
      "outputs": [
        {
          "output_type": "execute_result",
          "data": {
            "text/plain": [
              "18"
            ]
          },
          "metadata": {},
          "execution_count": 7
        }
      ]
    },
    {
      "cell_type": "code",
      "source": [
        "df_all['ORIGIN'].nunique()\n",
        "#we only chose 3 top US airlines due to the amount of data (ATL, LAX and JFK)"
      ],
      "metadata": {
        "colab": {
          "base_uri": "https://localhost:8080/"
        },
        "id": "TxBdf9YlXshh",
        "outputId": "a5b64a98-e435-4838-db7e-bb20bd490c5c"
      },
      "execution_count": null,
      "outputs": [
        {
          "output_type": "execute_result",
          "data": {
            "text/plain": [
              "3"
            ]
          },
          "metadata": {},
          "execution_count": 8
        }
      ]
    },
    {
      "cell_type": "code",
      "source": [
        "df_all['DEST'].nunique()\n",
        "#there are 208 destinies with delays from these 3 airports"
      ],
      "metadata": {
        "colab": {
          "base_uri": "https://localhost:8080/"
        },
        "id": "dFP9_goyYF8j",
        "outputId": "b6896f2b-fa4f-4663-a212-a4daedf58691"
      },
      "execution_count": null,
      "outputs": [
        {
          "output_type": "execute_result",
          "data": {
            "text/plain": [
              "208"
            ]
          },
          "metadata": {},
          "execution_count": 9
        }
      ]
    },
    {
      "cell_type": "code",
      "source": [
        "df_all[df_all['DEP_DELAY'] > 0]['DEP_DELAY'].count()\n",
        "#773988 are delays\n",
        "\n",
        "df_all[df_all['DEP_DELAY'] < 0]['DEP_DELAY'].count()\n",
        "#1175600 are leaving earlier"
      ],
      "metadata": {
        "colab": {
          "base_uri": "https://localhost:8080/"
        },
        "id": "AnGgo5zhYOju",
        "outputId": "77d28938-038a-4127-dcf7-bb9a0089468a"
      },
      "execution_count": null,
      "outputs": [
        {
          "output_type": "execute_result",
          "data": {
            "text/plain": [
              "1175600"
            ]
          },
          "metadata": {},
          "execution_count": 10
        }
      ]
    },
    {
      "cell_type": "code",
      "source": [
        "df_all[df_all['DEP_DELAY'] == 0]['DEP_DELAY'].count()\n",
        "#131285 are leaving on time"
      ],
      "metadata": {
        "colab": {
          "base_uri": "https://localhost:8080/"
        },
        "id": "UGONyl949ixN",
        "outputId": "20b8f787-0287-4f00-b463-1d71d4885529"
      },
      "execution_count": null,
      "outputs": [
        {
          "output_type": "execute_result",
          "data": {
            "text/plain": [
              "131285"
            ]
          },
          "metadata": {},
          "execution_count": 11
        }
      ]
    },
    {
      "cell_type": "code",
      "source": [
        "data = [773988, 1175600, 131285]\n",
        "labels = ['Delay', 'Leaving earlier', 'On time']\n",
        "colors = sns.color_palette('pastel')[0:3]\n",
        "plt.pie(data, labels = labels, colors = colors, autopct='%.0f%%')\n",
        "plt.show()"
      ],
      "metadata": {
        "colab": {
          "base_uri": "https://localhost:8080/",
          "height": 248
        },
        "id": "FuEItI8LaCLS",
        "outputId": "514bd77a-3913-471e-f63f-5180a49f7156"
      },
      "execution_count": null,
      "outputs": [
        {
          "output_type": "display_data",
          "data": {
            "text/plain": [
              "<Figure size 432x288 with 1 Axes>"
            ],
            "image/png": "[encoded data removed]"
          },
          "metadata": {}
        }
      ]
    },
    {
      "cell_type": "code",
      "source": [
        "#new pie chart with delay more than and less than 30'\n",
        "\n",
        "df_all[(df_all['DEP_DELAY'] > 0) & (df_all['DEP_DELAY'] < 30)]['DEP_DELAY'].count()\n",
        "# 529230 are delays less than 30'\n",
        "\n",
        "df_all[(df_all['DEP_DELAY'] > 0) & (df_all['DEP_DELAY'] > 30)]['DEP_DELAY'].count()\n",
        "# 237955 are delays less than 30'"
      ],
      "metadata": {
        "colab": {
          "base_uri": "https://localhost:8080/"
        },
        "id": "tm24Z-9UC7oL",
        "outputId": "fc9dafeb-aaec-4233-8501-5e7d021e4548"
      },
      "execution_count": null,
      "outputs": [
        {
          "output_type": "execute_result",
          "data": {
            "text/plain": [
              "237955"
            ]
          },
          "metadata": {},
          "execution_count": 13
        }
      ]
    },
    {
      "cell_type": "code",
      "source": [
        "df_all[(df_all['DEP_DELAY'] < 0) & (df_all['DEP_DELAY'] < -30)]['DEP_DELAY'].count()\n",
        "# 18 are leaving early more than 30'\n",
        "\n",
        "df_all[(df_all['DEP_DELAY'] < 0) & (df_all['DEP_DELAY'] > -30)]['DEP_DELAY'].count()\n",
        "# 1175580 are leaving early less than 30'"
      ],
      "metadata": {
        "colab": {
          "base_uri": "https://localhost:8080/"
        },
        "id": "jRTK0c7cJlee",
        "outputId": "e5c6bd5b-a43f-4823-f822-ee8ee145017f"
      },
      "execution_count": null,
      "outputs": [
        {
          "output_type": "execute_result",
          "data": {
            "text/plain": [
              "1175580"
            ]
          },
          "metadata": {},
          "execution_count": 14
        }
      ]
    },
    {
      "cell_type": "code",
      "source": [
        "#this pie chart will not be used because it's confusing\n",
        "data = [529230, 237955, 18, 1175580, 131285]\n",
        "labels = ['Delay > 30 min', 'Delay < 30 min', 'Leaving earlier > 30 min', 'Leaving earlier < 30 min', 'On time']\n",
        "colors = sns.color_palette('pastel')[0:5]\n",
        "plt.pie(data, labels = labels, colors = colors, autopct='%.0f%%')\n",
        "plt.show()"
      ],
      "metadata": {
        "colab": {
          "base_uri": "https://localhost:8080/",
          "height": 248
        },
        "id": "Gcw2DcMAJ9cI",
        "outputId": "82221aa8-abe8-4363-c0e1-778a85e93ecf"
      },
      "execution_count": null,
      "outputs": [
        {
          "output_type": "display_data",
          "data": {
            "text/plain": [
              "<Figure size 432x288 with 1 Axes>"
            ],
            "image/png": "[encoded data removed]"
          },
          "metadata": {}
        }
      ]
    },
    {
      "cell_type": "code",
      "source": [
        "data = {'index' : ['Delay', 'Leaving earlier'], 'Total': [773988\t, 1175600], 'Less than 30':[529230, 1175580]}\n",
        "data = pd.DataFrame(data).set_index('index')\n",
        "data\n",
        "\n",
        "# data['Total'][0] = data['Less than 30'][0]/data['Total'][0]\n",
        "# # data['Leaving earlier'] = data['Leaving earlier'] / data['Leaving earlier'].sum()\n",
        "# data"
      ],
      "metadata": {
        "colab": {
          "base_uri": "https://localhost:8080/",
          "height": 143
        },
        "id": "xL1cVsHj-_6J",
        "outputId": "683ce6a6-dbc7-48ae-b5bd-18e200ae0647"
      },
      "execution_count": null,
      "outputs": [
        {
          "output_type": "execute_result",
          "data": {
            "text/plain": [
              "                   Total  Less than 30\n",
              "index                                 \n",
              "Delay             773988        529230\n",
              "Leaving earlier  1175600       1175580"
            ],
            "text/html": [
              "\n",
              "  <div id=\"df-023f125a-b9be-4345-bb2b-aba481c9749f\">\n",
              "    <div class=\"colab-df-container\">\n",
              "      <div>\n",
              "<style scoped>\n",
              "    .dataframe tbody tr th:only-of-type {\n",
              "        vertical-align: middle;\n",
              "    }\n",
              "\n",
              "    .dataframe tbody tr th {\n",
              "        vertical-align: top;\n",
              "    }\n",
              "\n",
              "    .dataframe thead th {\n",
              "        text-align: right;\n",
              "    }\n",
              "</style>\n",
              "<table border=\"1\" class=\"dataframe\">\n",
              "  <thead>\n",
              "    <tr style=\"text-align: right;\">\n",
              "      <th></th>\n",
              "      <th>Total</th>\n",
              "      <th>Less than 30</th>\n",
              "    </tr>\n",
              "    <tr>\n",
              "      <th>index</th>\n",
              "      <th></th>\n",
              "      <th></th>\n",
              "    </tr>\n",
              "  </thead>\n",
              "  <tbody>\n",
              "    <tr>\n",
              "      <th>Delay</th>\n",
              "      <td>773988</td>\n",
              "      <td>529230</td>\n",
              "    </tr>\n",
              "    <tr>\n",
              "      <th>Leaving earlier</th>\n",
              "      <td>1175600</td>\n",
              "      <td>1175580</td>\n",
              "    </tr>\n",
              "  </tbody>\n",
              "</table>\n",
              "</div>\n",
              "      <button class=\"colab-df-convert\" onclick=\"convertToInteractive('df-023f125a-b9be-4345-bb2b-aba481c9749f')\"\n",
              "              title=\"Convert this dataframe to an interactive table.\"\n",
              "              style=\"display:none;\">\n",
              "        \n",
              "  <svg xmlns=\"http://www.w3.org/2000/svg\" height=\"24px\"viewBox=\"0 0 24 24\"\n",
              "       width=\"24px\">\n",
              "    <path d=\"M0 0h24v24H0V0z\" fill=\"none\"/>\n",
              "    <path d=\"M18.56 5.44l.94 2.06.94-2.06 2.06-.94-2.06-.94-.94-2.06-.94 2.06-2.06.94zm-11 1L8.5 8.5l.94-2.06 2.06-.94-2.06-.94L8.5 2.5l-.94 2.06-2.06.94zm10 10l.94 2.06.94-2.06 2.06-.94-2.06-.94-.94-2.06-.94 2.06-2.06.94z\"/><path d=\"M17.41 7.96l-1.37-1.37c-.4-.4-.92-.59-1.43-.59-.52 0-1.04.2-1.43.59L10.3 9.45l-7.72 7.72c-.78.78-.78 2.05 0 2.83L4 21.41c.39.39.9.59 1.41.59.51 0 1.02-.2 1.41-.59l7.78-7.78 2.81-2.81c.8-.78.8-2.07 0-2.86zM5.41 20L4 18.59l7.72-7.72 1.47 1.35L5.41 20z\"/>\n",
              "  </svg>\n",
              "      </button>\n",
              "      \n",
              "  <style>\n",
              "    .colab-df-container {\n",
              "      display:flex;\n",
              "      flex-wrap:wrap;\n",
              "      gap: 12px;\n",
              "    }\n",
              "\n",
              "    .colab-df-convert {\n",
              "      background-color: #E8F0FE;\n",
              "      border: none;\n",
              "      border-radius: 50%;\n",
              "      cursor: pointer;\n",
              "      display: none;\n",
              "      fill: #1967D2;\n",
              "      height: 32px;\n",
              "      padding: 0 0 0 0;\n",
              "      width: 32px;\n",
              "    }\n",
              "\n",
              "    .colab-df-convert:hover {\n",
              "      background-color: #E2EBFA;\n",
              "      box-shadow: 0px 1px 2px rgba(60, 64, 67, 0.3), 0px 1px 3px 1px rgba(60, 64, 67, 0.15);\n",
              "      fill: #174EA6;\n",
              "    }\n",
              "\n",
              "    [theme=dark] .colab-df-convert {\n",
              "      background-color: #3B4455;\n",
              "      fill: #D2E3FC;\n",
              "    }\n",
              "\n",
              "    [theme=dark] .colab-df-convert:hover {\n",
              "      background-color: #434B5C;\n",
              "      box-shadow: 0px 1px 3px 1px rgba(0, 0, 0, 0.15);\n",
              "      filter: drop-shadow(0px 1px 2px rgba(0, 0, 0, 0.3));\n",
              "      fill: #FFFFFF;\n",
              "    }\n",
              "  </style>\n",
              "\n",
              "      <script>\n",
              "        const buttonEl =\n",
              "          document.querySelector('#df-023f125a-b9be-4345-bb2b-aba481c9749f button.colab-df-convert');\n",
              "        buttonEl.style.display =\n",
              "          google.colab.kernel.accessAllowed ? 'block' : 'none';\n",
              "\n",
              "        async function convertToInteractive(key) {\n",
              "          const element = document.querySelector('#df-023f125a-b9be-4345-bb2b-aba481c9749f');\n",
              "          const dataTable =\n",
              "            await google.colab.kernel.invokeFunction('convertToInteractive',\n",
              "                                                     [key], {});\n",
              "          if (!dataTable) return;\n",
              "\n",
              "          const docLinkHtml = 'Like what you see? Visit the ' +\n",
              "            '<a target=\"_blank\" href=https://colab.research.google.com/notebooks/data_table.ipynb>data table notebook</a>'\n",
              "            + ' to learn more about interactive tables.';\n",
              "          element.innerHTML = '';\n",
              "          dataTable['output_type'] = 'display_data';\n",
              "          await google.colab.output.renderOutput(dataTable, element);\n",
              "          const docLink = document.createElement('div');\n",
              "          docLink.innerHTML = docLinkHtml;\n",
              "          element.appendChild(docLink);\n",
              "        }\n",
              "      </script>\n",
              "    </div>\n",
              "  </div>\n",
              "  "
            ]
          },
          "metadata": {},
          "execution_count": 48
        }
      ]
    },
    {
      "cell_type": "code",
      "source": [
        "data['Less than 30'][0]/data['Total'][0]"
      ],
      "metadata": {
        "colab": {
          "base_uri": "https://localhost:8080/"
        },
        "id": "xHK4yl5qAxAt",
        "outputId": "001b859b-b8ee-4bc6-fe8b-c73feee08f04"
      },
      "execution_count": null,
      "outputs": [
        {
          "output_type": "execute_result",
          "data": {
            "text/plain": [
              "0.6837702910122637"
            ]
          },
          "metadata": {},
          "execution_count": 45
        }
      ]
    },
    {
      "cell_type": "code",
      "source": [
        "1 - data['Less than 30'][0]/data['Total'][0]"
      ],
      "metadata": {
        "colab": {
          "base_uri": "https://localhost:8080/"
        },
        "id": "oh8h5WHvBlZ0",
        "outputId": "e8ea3ba5-cf8f-4861-8ebb-5c1860f61858"
      },
      "execution_count": null,
      "outputs": [
        {
          "output_type": "execute_result",
          "data": {
            "text/plain": [
              "0.3162297089877363"
            ]
          },
          "metadata": {},
          "execution_count": 49
        }
      ]
    },
    {
      "cell_type": "code",
      "source": [
        "data['Less than 30'][1]/data['Total'][1] #close to 1"
      ],
      "metadata": {
        "colab": {
          "base_uri": "https://localhost:8080/"
        },
        "id": "-iAYFPkdBxTj",
        "outputId": "0cc377b3-bb2e-4431-f511-d16edd350b8c"
      },
      "execution_count": null,
      "outputs": [
        {
          "output_type": "execute_result",
          "data": {
            "text/plain": [
              "1.000016000128001"
            ]
          },
          "metadata": {},
          "execution_count": 57
        }
      ]
    },
    {
      "cell_type": "code",
      "source": [
        "1 - data['Less than 30'][1]/data['Total'][1] #close to 0"
      ],
      "metadata": {
        "colab": {
          "base_uri": "https://localhost:8080/"
        },
        "id": "Wumd2mFzCn9p",
        "outputId": "a555209a-d374-4614-b801-db05242a281e"
      },
      "execution_count": null,
      "outputs": [
        {
          "output_type": "execute_result",
          "data": {
            "text/plain": [
              "-1.600012800095918e-05"
            ]
          },
          "metadata": {},
          "execution_count": 58
        }
      ]
    },
    {
      "cell_type": "code",
      "source": [
        "data = {'index' : ['Delay', 'Leaving earlier'], '<30min': [0.6837702910122637, 1], '>30min':[0.3162297089877363, 0]}\n",
        "data = pd.DataFrame(data).set_index('index')\n",
        "data.plot(kind='bar', \n",
        "                    stacked=True, \n",
        "                    colormap='tab10', \n",
        "                    figsize=(10, 6))"
      ],
      "metadata": {
        "colab": {
          "base_uri": "https://localhost:8080/",
          "height": 470
        },
        "id": "s2V0eAyYBZf0",
        "outputId": "09f9fa7d-7738-4ecb-89fe-cba260c4ff8e"
      },
      "execution_count": null,
      "outputs": [
        {
          "output_type": "execute_result",
          "data": {
            "text/plain": [
              "<matplotlib.axes._subplots.AxesSubplot at 0x7f63cfa5b2b0>"
            ]
          },
          "metadata": {},
          "execution_count": 66
        },
        {
          "output_type": "display_data",
          "data": {
            "text/plain": [
              "<Figure size 720x432 with 1 Axes>"
            ],
            "image/png": "[encoded data removed]"
          },
          "metadata": {
            "needs_background": "light"
          }
        }
      ]
    },
    {
      "cell_type": "code",
      "source": [
        "#TODO change time categorys to datetime (CRS_DEP_TIME, DEP_TIME, CRS_ARR_TIME, ARR_TIME)"
      ],
      "metadata": {
        "id": "9A9I9_0BGR4x"
      },
      "execution_count": null,
      "outputs": []
    },
    {
      "cell_type": "markdown",
      "source": [
        "#1.2) Airports/companies that have more delays/distance"
      ],
      "metadata": {
        "id": "pvseSt-TW2gK"
      }
    },
    {
      "cell_type": "code",
      "source": [
        "#companies/airport that have more delays/distance"
      ],
      "metadata": {
        "id": "cwh062AyHuiE"
      },
      "execution_count": null,
      "outputs": []
    },
    {
      "cell_type": "markdown",
      "source": [
        "#1.2.1) Airport = ATL"
      ],
      "metadata": {
        "id": "XXqlIRut4Cd2"
      }
    },
    {
      "cell_type": "code",
      "source": [
        "#airport ATL\n",
        "#167 destinations with delays\n",
        "#the sum of delays by destination range from 61 (PSP) up to 360408 minutes (EWR)\n",
        "df_airport_ATL_g = df_all[df_all['ORIGIN'] == 'ATL'].groupby('DEST')['DEP_DELAY'].sum()\n",
        "\n",
        "df_airport_ATL_g = df_airport_ATL_g.sort_values(ascending = False)"
      ],
      "metadata": {
        "id": "igM5r9uSJIhH"
      },
      "execution_count": null,
      "outputs": []
    },
    {
      "cell_type": "code",
      "source": [
        "#min delay = -234 min, max delay = 1587 min (26,45h)\n",
        "df_all[df_all['ORIGIN'] == 'ATL'].describe()"
      ],
      "metadata": {
        "id": "Kk9SZFkt4Ypf"
      },
      "execution_count": null,
      "outputs": []
    },
    {
      "cell_type": "code",
      "source": [
        "sns.boxplot(data = df_airport_ATL_g)"
      ],
      "metadata": {
        "id": "5HIQDcIxTkuh"
      },
      "execution_count": null,
      "outputs": []
    },
    {
      "cell_type": "code",
      "source": [
        "df_airport_ATL_g.describe()"
      ],
      "metadata": {
        "id": "02yFbq7fTrmx"
      },
      "execution_count": null,
      "outputs": []
    },
    {
      "cell_type": "code",
      "source": [
        "sns.barplot(data = df_airport_ATL_g, x = df_airport_ATL_g.index, y = df_airport_ATL_g)"
      ],
      "metadata": {
        "id": "i_xMhVQ4SZqE"
      },
      "execution_count": null,
      "outputs": []
    },
    {
      "cell_type": "markdown",
      "source": [
        "#All airports"
      ],
      "metadata": {
        "id": "ksaPs7Zq30TY"
      }
    },
    {
      "cell_type": "code",
      "source": [
        "df_airport_p = df_all.pivot_table(values = 'DEP_DELAY', index = ['ORIGIN', 'DEST'], aggfunc = 'sum').sort_values(by = 'DEP_DELAY', ascending = False)\n",
        "df_airport_p\n",
        "#the route that gets more delays is LAX to SFO with a total of 784071 minutes delayed\n",
        "#the route that leaves early more times is JFK to SNA with a total of 281 minutes"
      ],
      "metadata": {
        "id": "bUL8a6m6Mo09"
      },
      "execution_count": null,
      "outputs": []
    },
    {
      "cell_type": "code",
      "source": [
        "df_airport_ATL_p = df_all.pivot_table(values = 'DEP_DELAY', index = ['ORIGIN', 'DEST', 'AIRLINE'], aggfunc = 'sum').sort_values(by = 'DEP_DELAY', ascending = False)\n",
        "df_airport_ATL_p\n",
        "#the airline with the route that has more delays is Delta Airlines from ATL to EWR (236562 min total, wich represent a mean of 226 minutes/flight delayed)\n",
        "#the United Airlines with the route from LAX to AUS is the one that leaves earlier (590 minutes earlier/wich represents a mean of 12 minutes eaarlier/fligth that lef earlier)"
      ],
      "metadata": {
        "id": "aRbEn7HsavY3"
      },
      "execution_count": null,
      "outputs": []
    },
    {
      "cell_type": "code",
      "source": [
        "df_test = df_airport_ATL_p.reset_index()\n",
        "\n",
        "sns.barplot(data = df_test, x = 'ORIGIN'\t, y = 'DEP_DELAY', hue = 'DEST')"
      ],
      "metadata": {
        "id": "vOvvyp1-PNma"
      },
      "execution_count": null,
      "outputs": []
    }
  ],
  "metadata": {
    "colab": {
      "provenance": [],
      "include_colab_link": true
    },
    "kernelspec": {
      "display_name": "Data",
      "language": "python",
      "name": "python3"
    },
    "language_info": {
      "name": "python",
      "version": "3.9.13 (main, Aug 25 2022, 23:51:50) [MSC v.1916 64 bit (AMD64)]"
    },
    "vscode": {
      "interpreter": {
        "hash": "25876271bee417cea62ac4a874d4e4ae52fe419c2f0f6d8a5704a6b7fa872526"
      }
    }
  },
  "nbformat": 4,
  "nbformat_minor": 0
}